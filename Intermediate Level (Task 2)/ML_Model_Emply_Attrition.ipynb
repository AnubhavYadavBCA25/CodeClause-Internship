{
 "cells": [
  {
   "cell_type": "markdown",
   "metadata": {},
   "source": [
    "# Machine Learning Model for Employee Attritiom"
   ]
  },
  {
   "cell_type": "markdown",
   "metadata": {},
   "source": [
    "### 1. Import Relevant Libraries"
   ]
  },
  {
   "cell_type": "code",
   "execution_count": 32,
   "metadata": {},
   "outputs": [],
   "source": [
    "# General Libraries for Data Manipulation and Visualization\n",
    "import pandas as pd\n",
    "import matplotlib.pyplot as plt\n",
    "import seaborn as sns\n",
    "from sklearn.preprocessing import StandardScaler\n",
    "%matplotlib inline\n",
    "import warnings\n",
    "warnings.filterwarnings('ignore')\n",
    "\n",
    "# Libraries for machine learning models\n",
    "from sklearn.linear_model import LogisticRegression\n",
    "from sklearn.tree import DecisionTreeClassifier\n",
    "from sklearn.ensemble import RandomForestClassifier\n",
    "from sklearn.neighbors import KNeighborsClassifier\n",
    "from sklearn.svm import SVC\n",
    "from sklearn.naive_bayes import GaussianNB\n",
    "from sklearn.ensemble import AdaBoostClassifier\n",
    "from sklearn.ensemble import GradientBoostingClassifier\n",
    "from sklearn.ensemble import ExtraTreesClassifier\n",
    "import xgboost as xgb\n",
    "\n",
    "# Libraries for model evaluation and data splitting\n",
    "from sklearn.model_selection import train_test_split\n",
    "from sklearn.metrics import classification_report, confusion_matrix, accuracy_score\n",
    "from sklearn.model_selection import cross_val_score\n",
    "\n",
    "# Library for saving the model\n",
    "import joblib"
   ]
  },
  {
   "cell_type": "markdown",
   "metadata": {},
   "source": [
    "### 2. Load Preprocessed Dataset"
   ]
  },
  {
   "cell_type": "code",
   "execution_count": 2,
   "metadata": {},
   "outputs": [
    {
     "data": {
      "text/html": [
       "<div>\n",
       "<style scoped>\n",
       "    .dataframe tbody tr th:only-of-type {\n",
       "        vertical-align: middle;\n",
       "    }\n",
       "\n",
       "    .dataframe tbody tr th {\n",
       "        vertical-align: top;\n",
       "    }\n",
       "\n",
       "    .dataframe thead th {\n",
       "        text-align: right;\n",
       "    }\n",
       "</style>\n",
       "<table border=\"1\" class=\"dataframe\">\n",
       "  <thead>\n",
       "    <tr style=\"text-align: right;\">\n",
       "      <th></th>\n",
       "      <th>Age</th>\n",
       "      <th>Attrition</th>\n",
       "      <th>BusinessTravel</th>\n",
       "      <th>DailyRate</th>\n",
       "      <th>Department</th>\n",
       "      <th>DistanceFromHome</th>\n",
       "      <th>Education</th>\n",
       "      <th>EducationField</th>\n",
       "      <th>EnvironmentSatisfaction</th>\n",
       "      <th>Gender</th>\n",
       "      <th>...</th>\n",
       "      <th>PerformanceRating</th>\n",
       "      <th>RelationshipSatisfaction</th>\n",
       "      <th>StockOptionLevel</th>\n",
       "      <th>TotalWorkingYears</th>\n",
       "      <th>TrainingTimesLastYear</th>\n",
       "      <th>WorkLifeBalance</th>\n",
       "      <th>YearsAtCompany</th>\n",
       "      <th>YearsInCurrentRole</th>\n",
       "      <th>YearsSinceLastPromotion</th>\n",
       "      <th>YearsWithCurrManager</th>\n",
       "    </tr>\n",
       "  </thead>\n",
       "  <tbody>\n",
       "    <tr>\n",
       "      <th>0</th>\n",
       "      <td>41</td>\n",
       "      <td>1</td>\n",
       "      <td>2</td>\n",
       "      <td>1102</td>\n",
       "      <td>2</td>\n",
       "      <td>1</td>\n",
       "      <td>2</td>\n",
       "      <td>606</td>\n",
       "      <td>2</td>\n",
       "      <td>0</td>\n",
       "      <td>...</td>\n",
       "      <td>3</td>\n",
       "      <td>1</td>\n",
       "      <td>0</td>\n",
       "      <td>8</td>\n",
       "      <td>0</td>\n",
       "      <td>1</td>\n",
       "      <td>6</td>\n",
       "      <td>4</td>\n",
       "      <td>0</td>\n",
       "      <td>5</td>\n",
       "    </tr>\n",
       "    <tr>\n",
       "      <th>1</th>\n",
       "      <td>49</td>\n",
       "      <td>0</td>\n",
       "      <td>1</td>\n",
       "      <td>279</td>\n",
       "      <td>1</td>\n",
       "      <td>8</td>\n",
       "      <td>1</td>\n",
       "      <td>606</td>\n",
       "      <td>3</td>\n",
       "      <td>1</td>\n",
       "      <td>...</td>\n",
       "      <td>4</td>\n",
       "      <td>4</td>\n",
       "      <td>1</td>\n",
       "      <td>10</td>\n",
       "      <td>3</td>\n",
       "      <td>3</td>\n",
       "      <td>10</td>\n",
       "      <td>7</td>\n",
       "      <td>1</td>\n",
       "      <td>7</td>\n",
       "    </tr>\n",
       "    <tr>\n",
       "      <th>2</th>\n",
       "      <td>37</td>\n",
       "      <td>1</td>\n",
       "      <td>2</td>\n",
       "      <td>1373</td>\n",
       "      <td>1</td>\n",
       "      <td>2</td>\n",
       "      <td>2</td>\n",
       "      <td>82</td>\n",
       "      <td>4</td>\n",
       "      <td>1</td>\n",
       "      <td>...</td>\n",
       "      <td>3</td>\n",
       "      <td>2</td>\n",
       "      <td>0</td>\n",
       "      <td>7</td>\n",
       "      <td>3</td>\n",
       "      <td>3</td>\n",
       "      <td>0</td>\n",
       "      <td>0</td>\n",
       "      <td>0</td>\n",
       "      <td>0</td>\n",
       "    </tr>\n",
       "    <tr>\n",
       "      <th>3</th>\n",
       "      <td>33</td>\n",
       "      <td>0</td>\n",
       "      <td>1</td>\n",
       "      <td>1392</td>\n",
       "      <td>1</td>\n",
       "      <td>3</td>\n",
       "      <td>4</td>\n",
       "      <td>606</td>\n",
       "      <td>4</td>\n",
       "      <td>0</td>\n",
       "      <td>...</td>\n",
       "      <td>3</td>\n",
       "      <td>3</td>\n",
       "      <td>0</td>\n",
       "      <td>8</td>\n",
       "      <td>3</td>\n",
       "      <td>3</td>\n",
       "      <td>8</td>\n",
       "      <td>7</td>\n",
       "      <td>3</td>\n",
       "      <td>0</td>\n",
       "    </tr>\n",
       "    <tr>\n",
       "      <th>4</th>\n",
       "      <td>27</td>\n",
       "      <td>0</td>\n",
       "      <td>2</td>\n",
       "      <td>591</td>\n",
       "      <td>1</td>\n",
       "      <td>2</td>\n",
       "      <td>1</td>\n",
       "      <td>464</td>\n",
       "      <td>1</td>\n",
       "      <td>1</td>\n",
       "      <td>...</td>\n",
       "      <td>3</td>\n",
       "      <td>4</td>\n",
       "      <td>1</td>\n",
       "      <td>6</td>\n",
       "      <td>3</td>\n",
       "      <td>3</td>\n",
       "      <td>2</td>\n",
       "      <td>2</td>\n",
       "      <td>2</td>\n",
       "      <td>2</td>\n",
       "    </tr>\n",
       "  </tbody>\n",
       "</table>\n",
       "<p>5 rows × 31 columns</p>\n",
       "</div>"
      ],
      "text/plain": [
       "   Age  Attrition  BusinessTravel  DailyRate  Department  DistanceFromHome  \\\n",
       "0   41          1               2       1102           2                 1   \n",
       "1   49          0               1        279           1                 8   \n",
       "2   37          1               2       1373           1                 2   \n",
       "3   33          0               1       1392           1                 3   \n",
       "4   27          0               2        591           1                 2   \n",
       "\n",
       "   Education  EducationField  EnvironmentSatisfaction  Gender  ...  \\\n",
       "0          2             606                        2       0  ...   \n",
       "1          1             606                        3       1  ...   \n",
       "2          2              82                        4       1  ...   \n",
       "3          4             606                        4       0  ...   \n",
       "4          1             464                        1       1  ...   \n",
       "\n",
       "   PerformanceRating  RelationshipSatisfaction  StockOptionLevel  \\\n",
       "0                  3                         1                 0   \n",
       "1                  4                         4                 1   \n",
       "2                  3                         2                 0   \n",
       "3                  3                         3                 0   \n",
       "4                  3                         4                 1   \n",
       "\n",
       "   TotalWorkingYears  TrainingTimesLastYear  WorkLifeBalance  YearsAtCompany  \\\n",
       "0                  8                      0                1               6   \n",
       "1                 10                      3                3              10   \n",
       "2                  7                      3                3               0   \n",
       "3                  8                      3                3               8   \n",
       "4                  6                      3                3               2   \n",
       "\n",
       "   YearsInCurrentRole  YearsSinceLastPromotion  YearsWithCurrManager  \n",
       "0                   4                        0                     5  \n",
       "1                   7                        1                     7  \n",
       "2                   0                        0                     0  \n",
       "3                   7                        3                     0  \n",
       "4                   2                        2                     2  \n",
       "\n",
       "[5 rows x 31 columns]"
      ]
     },
     "execution_count": 2,
     "metadata": {},
     "output_type": "execute_result"
    }
   ],
   "source": [
    "df = pd.read_csv('Employee-Attrition-Preprocessed_Data.csv')\n",
    "df.head()"
   ]
  },
  {
   "cell_type": "code",
   "execution_count": 3,
   "metadata": {},
   "outputs": [
    {
     "name": "stdout",
     "output_type": "stream",
     "text": [
      "<class 'pandas.core.frame.DataFrame'>\n",
      "RangeIndex: 1470 entries, 0 to 1469\n",
      "Data columns (total 31 columns):\n",
      " #   Column                    Non-Null Count  Dtype\n",
      "---  ------                    --------------  -----\n",
      " 0   Age                       1470 non-null   int64\n",
      " 1   Attrition                 1470 non-null   int64\n",
      " 2   BusinessTravel            1470 non-null   int64\n",
      " 3   DailyRate                 1470 non-null   int64\n",
      " 4   Department                1470 non-null   int64\n",
      " 5   DistanceFromHome          1470 non-null   int64\n",
      " 6   Education                 1470 non-null   int64\n",
      " 7   EducationField            1470 non-null   int64\n",
      " 8   EnvironmentSatisfaction   1470 non-null   int64\n",
      " 9   Gender                    1470 non-null   int64\n",
      " 10  HourlyRate                1470 non-null   int64\n",
      " 11  JobInvolvement            1470 non-null   int64\n",
      " 12  JobLevel                  1470 non-null   int64\n",
      " 13  JobRole                   1470 non-null   int64\n",
      " 14  JobSatisfaction           1470 non-null   int64\n",
      " 15  MaritalStatus             1470 non-null   int64\n",
      " 16  MonthlyIncome             1470 non-null   int64\n",
      " 17  MonthlyRate               1470 non-null   int64\n",
      " 18  NumCompaniesWorked        1470 non-null   int64\n",
      " 19  OverTime                  1470 non-null   int64\n",
      " 20  PercentSalaryHike         1470 non-null   int64\n",
      " 21  PerformanceRating         1470 non-null   int64\n",
      " 22  RelationshipSatisfaction  1470 non-null   int64\n",
      " 23  StockOptionLevel          1470 non-null   int64\n",
      " 24  TotalWorkingYears         1470 non-null   int64\n",
      " 25  TrainingTimesLastYear     1470 non-null   int64\n",
      " 26  WorkLifeBalance           1470 non-null   int64\n",
      " 27  YearsAtCompany            1470 non-null   int64\n",
      " 28  YearsInCurrentRole        1470 non-null   int64\n",
      " 29  YearsSinceLastPromotion   1470 non-null   int64\n",
      " 30  YearsWithCurrManager      1470 non-null   int64\n",
      "dtypes: int64(31)\n",
      "memory usage: 356.1 KB\n"
     ]
    }
   ],
   "source": [
    "df.info()"
   ]
  },
  {
   "cell_type": "markdown",
   "metadata": {},
   "source": [
    "### 3. Splitting Data"
   ]
  },
  {
   "cell_type": "code",
   "execution_count": 5,
   "metadata": {},
   "outputs": [],
   "source": [
    "# Splitting the data into features and target\n",
    "\n",
    "# Independent Variables\n",
    "X = df.drop('Attrition', axis=1)\n",
    "\n",
    "# Dependent Variable\n",
    "y = df['Attrition']"
   ]
  },
  {
   "cell_type": "code",
   "execution_count": 6,
   "metadata": {},
   "outputs": [
    {
     "data": {
      "text/plain": [
       "((1029, 30), (441, 30), (1029,), (441,))"
      ]
     },
     "execution_count": 6,
     "metadata": {},
     "output_type": "execute_result"
    }
   ],
   "source": [
    "# Splitting the data into training and testing data\n",
    "X_train, X_test, y_train, y_test = train_test_split(X, y, test_size=0.3, random_state=42)\n",
    "\n",
    "# Shape of the training and testing data\n",
    "X_train.shape, X_test.shape, y_train.shape, y_test.shape"
   ]
  },
  {
   "cell_type": "markdown",
   "metadata": {},
   "source": [
    "### 4. Data Standardization"
   ]
  },
  {
   "cell_type": "code",
   "execution_count": 7,
   "metadata": {},
   "outputs": [],
   "source": [
    "# Standardizing the data\n",
    "scaler = StandardScaler()\n",
    "\n",
    "# Fitting the scaler to the training data\n",
    "X_train = scaler.fit_transform(X_train)\n",
    "\n",
    "# Transforming the testing data\n",
    "X_test = scaler.transform(X_test)"
   ]
  },
  {
   "cell_type": "code",
   "execution_count": 9,
   "metadata": {},
   "outputs": [
    {
     "data": {
      "text/plain": [
       "array([[ 1.41369115,  0.59277912,  0.79421172, ..., -0.05899761,\n",
       "        -0.36030992, -0.28567748],\n",
       "       [-0.09834647,  0.59277912, -1.44072151, ..., -0.60592139,\n",
       "        -0.68214924, -0.85372023],\n",
       "       [-1.71838678,  0.59277912, -1.14354907, ..., -1.15284518,\n",
       "        -0.36030992, -1.13774161],\n",
       "       ...,\n",
       "       [-1.61038409, -0.92079337,  1.11348789, ..., -1.15284518,\n",
       "        -0.68214924, -1.13774161],\n",
       "       [-0.85436528,  0.59277912,  1.41311631, ..., -0.3324595 ,\n",
       "        -0.68214924, -0.28567748],\n",
       "       [ 1.41369115,  0.59277912, -1.32283492, ..., -1.15284518,\n",
       "        -0.68214924, -1.13774161]])"
      ]
     },
     "execution_count": 9,
     "metadata": {},
     "output_type": "execute_result"
    }
   ],
   "source": [
    "X_train"
   ]
  },
  {
   "cell_type": "code",
   "execution_count": 10,
   "metadata": {},
   "outputs": [
    {
     "data": {
      "text/plain": [
       "array([[-9.62367969e-01,  5.92779116e-01,  1.55659368e-01, ...,\n",
       "        -5.89976093e-02, -3.60309915e-01, -2.85677478e-01],\n",
       "       [ 1.73769921e+00,  5.92779116e-01,  6.91060955e-01, ...,\n",
       "        -6.05921393e-01, -3.60309915e-01, -2.85677478e-01],\n",
       "       [-1.39437872e+00,  5.92779116e-01, -1.38177822e+00, ...,\n",
       "        -1.15284518e+00, -6.82149241e-01, -1.13774161e+00],\n",
       "       ...,\n",
       "       [-9.62367969e-01,  5.92779116e-01,  8.70346807e-01, ...,\n",
       "        -6.05921393e-01, -3.84705899e-02, -5.69698854e-01],\n",
       "       [ 2.25661592e-01,  5.92779116e-01,  1.42539616e+00, ...,\n",
       "        -5.89976093e-02, -6.82149241e-01, -1.65610132e-03],\n",
       "       [-2.06349158e-01,  5.92779116e-01, -1.71579022e+00, ...,\n",
       "        -1.15284518e+00, -6.82149241e-01, -1.13774161e+00]])"
      ]
     },
     "execution_count": 10,
     "metadata": {},
     "output_type": "execute_result"
    }
   ],
   "source": [
    "X_test"
   ]
  },
  {
   "cell_type": "markdown",
   "metadata": {},
   "source": [
    "### 5. Model Selection and Evaluation"
   ]
  },
  {
   "cell_type": "code",
   "execution_count": 11,
   "metadata": {},
   "outputs": [],
   "source": [
    "def evaluate_model(true, predicted):\n",
    "    accuracy = accuracy_score(true, predicted)*100\n",
    "    confusion = confusion_matrix(true, predicted)\n",
    "    classification_rep = classification_report(true, predicted)\n",
    "    return accuracy, confusion, classification_rep"
   ]
  },
  {
   "cell_type": "code",
   "execution_count": 12,
   "metadata": {},
   "outputs": [
    {
     "name": "stdout",
     "output_type": "stream",
     "text": [
      "Model: Logistic Regression\n",
      "Accuracy: 86.17%\n",
      "Confusion Matrix: \n",
      "[[365  15]\n",
      " [ 46  15]]\n",
      "Classification Report: \n",
      "              precision    recall  f1-score   support\n",
      "\n",
      "           0       0.89      0.96      0.92       380\n",
      "           1       0.50      0.25      0.33        61\n",
      "\n",
      "    accuracy                           0.86       441\n",
      "   macro avg       0.69      0.60      0.63       441\n",
      "weighted avg       0.83      0.86      0.84       441\n",
      "\n",
      "\n",
      "\n",
      "Model: Decision Tree\n",
      "Accuracy: 77.78%\n",
      "Confusion Matrix: \n",
      "[[326  54]\n",
      " [ 44  17]]\n",
      "Classification Report: \n",
      "              precision    recall  f1-score   support\n",
      "\n",
      "           0       0.88      0.86      0.87       380\n",
      "           1       0.24      0.28      0.26        61\n",
      "\n",
      "    accuracy                           0.78       441\n",
      "   macro avg       0.56      0.57      0.56       441\n",
      "weighted avg       0.79      0.78      0.78       441\n",
      "\n",
      "\n",
      "\n",
      "Model: Random Forest\n",
      "Accuracy: 87.07%\n",
      "Confusion Matrix: \n",
      "[[377   3]\n",
      " [ 54   7]]\n",
      "Classification Report: \n",
      "              precision    recall  f1-score   support\n",
      "\n",
      "           0       0.87      0.99      0.93       380\n",
      "           1       0.70      0.11      0.20        61\n",
      "\n",
      "    accuracy                           0.87       441\n",
      "   macro avg       0.79      0.55      0.56       441\n",
      "weighted avg       0.85      0.87      0.83       441\n",
      "\n",
      "\n",
      "\n",
      "Model: K-Nearest Neighbors\n",
      "Accuracy: 86.39%\n",
      "Confusion Matrix: \n",
      "[[375   5]\n",
      " [ 55   6]]\n",
      "Classification Report: \n",
      "              precision    recall  f1-score   support\n",
      "\n",
      "           0       0.87      0.99      0.93       380\n",
      "           1       0.55      0.10      0.17        61\n",
      "\n",
      "    accuracy                           0.86       441\n",
      "   macro avg       0.71      0.54      0.55       441\n",
      "weighted avg       0.83      0.86      0.82       441\n",
      "\n",
      "\n",
      "\n",
      "Model: Support Vector Machine\n",
      "Accuracy: 87.07%\n",
      "Confusion Matrix: \n",
      "[[379   1]\n",
      " [ 56   5]]\n",
      "Classification Report: \n",
      "              precision    recall  f1-score   support\n",
      "\n",
      "           0       0.87      1.00      0.93       380\n",
      "           1       0.83      0.08      0.15        61\n",
      "\n",
      "    accuracy                           0.87       441\n",
      "   macro avg       0.85      0.54      0.54       441\n",
      "weighted avg       0.87      0.87      0.82       441\n",
      "\n",
      "\n",
      "\n",
      "Model: Gaussian Naive Bayes\n",
      "Accuracy: 76.64%\n",
      "Confusion Matrix: \n",
      "[[303  77]\n",
      " [ 26  35]]\n",
      "Classification Report: \n",
      "              precision    recall  f1-score   support\n",
      "\n",
      "           0       0.92      0.80      0.85       380\n",
      "           1       0.31      0.57      0.40        61\n",
      "\n",
      "    accuracy                           0.77       441\n",
      "   macro avg       0.62      0.69      0.63       441\n",
      "weighted avg       0.84      0.77      0.79       441\n",
      "\n",
      "\n",
      "\n"
     ]
    },
    {
     "name": "stderr",
     "output_type": "stream",
     "text": [
      "c:\\Users\\anu52\\OneDrive\\Desktop\\GitHub (DS-DA and Internship Project )\\CodeClause Internship\\venv\\Lib\\site-packages\\sklearn\\ensemble\\_weight_boosting.py:527: FutureWarning: The SAMME.R algorithm (the default) is deprecated and will be removed in 1.6. Use the SAMME algorithm to circumvent this warning.\n",
      "  warnings.warn(\n"
     ]
    },
    {
     "name": "stdout",
     "output_type": "stream",
     "text": [
      "Model: AdaBoost\n",
      "Accuracy: 86.17%\n",
      "Confusion Matrix: \n",
      "[[364  16]\n",
      " [ 45  16]]\n",
      "Classification Report: \n",
      "              precision    recall  f1-score   support\n",
      "\n",
      "           0       0.89      0.96      0.92       380\n",
      "           1       0.50      0.26      0.34        61\n",
      "\n",
      "    accuracy                           0.86       441\n",
      "   macro avg       0.69      0.61      0.63       441\n",
      "weighted avg       0.84      0.86      0.84       441\n",
      "\n",
      "\n",
      "\n",
      "Model: Gradient Boosting\n",
      "Accuracy: 87.76%\n",
      "Confusion Matrix: \n",
      "[[369  11]\n",
      " [ 43  18]]\n",
      "Classification Report: \n",
      "              precision    recall  f1-score   support\n",
      "\n",
      "           0       0.90      0.97      0.93       380\n",
      "           1       0.62      0.30      0.40        61\n",
      "\n",
      "    accuracy                           0.88       441\n",
      "   macro avg       0.76      0.63      0.67       441\n",
      "weighted avg       0.86      0.88      0.86       441\n",
      "\n",
      "\n",
      "\n",
      "Model: Extra Trees\n",
      "Accuracy: 87.07%\n",
      "Confusion Matrix: \n",
      "[[379   1]\n",
      " [ 56   5]]\n",
      "Classification Report: \n",
      "              precision    recall  f1-score   support\n",
      "\n",
      "           0       0.87      1.00      0.93       380\n",
      "           1       0.83      0.08      0.15        61\n",
      "\n",
      "    accuracy                           0.87       441\n",
      "   macro avg       0.85      0.54      0.54       441\n",
      "weighted avg       0.87      0.87      0.82       441\n",
      "\n",
      "\n",
      "\n",
      "Model: XGBoost\n",
      "Accuracy: 88.21%\n",
      "Confusion Matrix: \n",
      "[[372   8]\n",
      " [ 44  17]]\n",
      "Classification Report: \n",
      "              precision    recall  f1-score   support\n",
      "\n",
      "           0       0.89      0.98      0.93       380\n",
      "           1       0.68      0.28      0.40        61\n",
      "\n",
      "    accuracy                           0.88       441\n",
      "   macro avg       0.79      0.63      0.67       441\n",
      "weighted avg       0.86      0.88      0.86       441\n",
      "\n",
      "\n",
      "\n"
     ]
    }
   ],
   "source": [
    "# model to be used\n",
    "models = {\n",
    "    'Logistic Regression': LogisticRegression(),\n",
    "    'Decision Tree': DecisionTreeClassifier(),\n",
    "    'Random Forest': RandomForestClassifier(),\n",
    "    'K-Nearest Neighbors': KNeighborsClassifier(),\n",
    "    'Support Vector Machine': SVC(),\n",
    "    'Gaussian Naive Bayes': GaussianNB(),\n",
    "    'AdaBoost': AdaBoostClassifier(),\n",
    "    'Gradient Boosting': GradientBoostingClassifier(),\n",
    "    'Extra Trees': ExtraTreesClassifier(),\n",
    "    'XGBoost': xgb.XGBClassifier()\n",
    "}\n",
    "\n",
    "model_list = []\n",
    "accuracy_list = []\n",
    "\n",
    "for model_name, model in models.items():\n",
    "    model.fit(X_train, y_train)\n",
    "    y_pred = model.predict(X_test)\n",
    "    accuracy, confusion, classification_rep = evaluate_model(y_test, y_pred)\n",
    "    model_list.append(model_name)\n",
    "    accuracy_list.append(accuracy)\n",
    "    print(f\"Model: {model_name}\")\n",
    "    print(f\"Accuracy: {accuracy:.2f}%\")\n",
    "    print(f\"Confusion Matrix: \\n{confusion}\")\n",
    "    print(f\"Classification Report: \\n{classification_rep}\")\n",
    "    print(\"\\n\")"
   ]
  },
  {
   "cell_type": "code",
   "execution_count": 16,
   "metadata": {},
   "outputs": [
    {
     "data": {
      "text/html": [
       "<div>\n",
       "<style scoped>\n",
       "    .dataframe tbody tr th:only-of-type {\n",
       "        vertical-align: middle;\n",
       "    }\n",
       "\n",
       "    .dataframe tbody tr th {\n",
       "        vertical-align: top;\n",
       "    }\n",
       "\n",
       "    .dataframe thead th {\n",
       "        text-align: right;\n",
       "    }\n",
       "</style>\n",
       "<table border=\"1\" class=\"dataframe\">\n",
       "  <thead>\n",
       "    <tr style=\"text-align: right;\">\n",
       "      <th></th>\n",
       "      <th>Model</th>\n",
       "      <th>Accuracy</th>\n",
       "    </tr>\n",
       "  </thead>\n",
       "  <tbody>\n",
       "    <tr>\n",
       "      <th>9</th>\n",
       "      <td>XGBoost</td>\n",
       "      <td>88.208617</td>\n",
       "    </tr>\n",
       "    <tr>\n",
       "      <th>7</th>\n",
       "      <td>Gradient Boosting</td>\n",
       "      <td>87.755102</td>\n",
       "    </tr>\n",
       "    <tr>\n",
       "      <th>8</th>\n",
       "      <td>Extra Trees</td>\n",
       "      <td>87.074830</td>\n",
       "    </tr>\n",
       "    <tr>\n",
       "      <th>4</th>\n",
       "      <td>Support Vector Machine</td>\n",
       "      <td>87.074830</td>\n",
       "    </tr>\n",
       "    <tr>\n",
       "      <th>2</th>\n",
       "      <td>Random Forest</td>\n",
       "      <td>87.074830</td>\n",
       "    </tr>\n",
       "    <tr>\n",
       "      <th>3</th>\n",
       "      <td>K-Nearest Neighbors</td>\n",
       "      <td>86.394558</td>\n",
       "    </tr>\n",
       "    <tr>\n",
       "      <th>6</th>\n",
       "      <td>AdaBoost</td>\n",
       "      <td>86.167800</td>\n",
       "    </tr>\n",
       "    <tr>\n",
       "      <th>0</th>\n",
       "      <td>Logistic Regression</td>\n",
       "      <td>86.167800</td>\n",
       "    </tr>\n",
       "    <tr>\n",
       "      <th>1</th>\n",
       "      <td>Decision Tree</td>\n",
       "      <td>77.777778</td>\n",
       "    </tr>\n",
       "    <tr>\n",
       "      <th>5</th>\n",
       "      <td>Gaussian Naive Bayes</td>\n",
       "      <td>76.643991</td>\n",
       "    </tr>\n",
       "  </tbody>\n",
       "</table>\n",
       "</div>"
      ],
      "text/plain": [
       "                    Model   Accuracy\n",
       "9                 XGBoost  88.208617\n",
       "7       Gradient Boosting  87.755102\n",
       "8             Extra Trees  87.074830\n",
       "4  Support Vector Machine  87.074830\n",
       "2           Random Forest  87.074830\n",
       "3     K-Nearest Neighbors  86.394558\n",
       "6                AdaBoost  86.167800\n",
       "0     Logistic Regression  86.167800\n",
       "1           Decision Tree  77.777778\n",
       "5    Gaussian Naive Bayes  76.643991"
      ]
     },
     "execution_count": 16,
     "metadata": {},
     "output_type": "execute_result"
    }
   ],
   "source": [
    "# Dataframe for the model and their accuracy in descending order\n",
    "model_df = pd.DataFrame({'Model': model_list, 'Accuracy': (accuracy_list)}).sort_values(by='Accuracy', ascending=False)\n",
    "model_df"
   ]
  },
  {
   "cell_type": "markdown",
   "metadata": {},
   "source": [
    "**Conclusion:** The XGBoost model has the highest accuracy of 88.20%. The model can be used to predict employee attrition in the company. So, Now we will train the final model using the entire dataset and save it for future use."
   ]
  },
  {
   "cell_type": "markdown",
   "metadata": {},
   "source": [
    "### 6. Final Model Training"
   ]
  },
  {
   "cell_type": "code",
   "execution_count": 20,
   "metadata": {},
   "outputs": [
    {
     "name": "stdout",
     "output_type": "stream",
     "text": [
      "Model: XGBoost\n",
      "Accuracy: 88.21%\n",
      "Confusion Matrix: \n",
      "[[372   8]\n",
      " [ 44  17]]\n",
      "Classification Report: \n",
      "              precision    recall  f1-score   support\n",
      "\n",
      "           0       0.89      0.98      0.93       380\n",
      "           1       0.68      0.28      0.40        61\n",
      "\n",
      "    accuracy                           0.88       441\n",
      "   macro avg       0.79      0.63      0.67       441\n",
      "weighted avg       0.86      0.88      0.86       441\n",
      "\n",
      "Cross Validation Score: 86.12%\n",
      "\n"
     ]
    }
   ],
   "source": [
    "# XG Boost Model training and evaluation \n",
    "xgb_model = xgb.XGBClassifier()\n",
    "xgb_model.fit(X_train, y_train)\n",
    "y_pred = xgb_model.predict(X_test)\n",
    "accuracy, confusion, classification_rep = evaluate_model(y_test, y_pred)\n",
    "print(f\"Model: XGBoost\")\n",
    "print(f\"Accuracy: {accuracy:.2f}%\")\n",
    "print(f\"Confusion Matrix: \\n{confusion}\")\n",
    "print(f\"Classification Report: \\n{classification_rep}\")\n",
    "\n",
    "# Cross Validation\n",
    "cross_val = cross_val_score(xgb_model, X, y, cv=10, scoring='accuracy')\n",
    "print(f\"Cross Validation Score: {cross_val.mean()*100:.2f}%\\n\")"
   ]
  },
  {
   "cell_type": "code",
   "execution_count": 23,
   "metadata": {},
   "outputs": [
    {
     "data": {
      "image/png": "[encoded data removed]",
      "text/plain": [
       "<Figure size 1200x800 with 1 Axes>"
      ]
     },
     "metadata": {},
     "output_type": "display_data"
    }
   ],
   "source": [
    "# Plotting the Feature Importance\n",
    "plt.figure(figsize=(12, 8))\n",
    "feature_importance_df = pd.DataFrame({'Feature Importance': xgb_model.feature_importances_}, index=X.columns)\n",
    "feature_importance_df = feature_importance_df.sort_values(by='Feature Importance', ascending=False)\n",
    "sns.barplot(x=feature_importance_df['Feature Importance'], y=feature_importance_df.index)\n",
    "plt.xlabel('Feature Importance')\n",
    "plt.ylabel('Features')\n",
    "plt.title('Feature Importance of the XGBoost Model')\n",
    "plt.show()"
   ]
  },
  {
   "cell_type": "code",
   "execution_count": 25,
   "metadata": {},
   "outputs": [
    {
     "data": {
      "image/png": "[encoded data removed]",
      "text/plain": [
       "<Figure size 1000x600 with 2 Axes>"
      ]
     },
     "metadata": {},
     "output_type": "display_data"
    }
   ],
   "source": [
    "# Confusion Matrix\n",
    "plt.figure(figsize=(10, 6))\n",
    "sns.heatmap(confusion, annot=True, cmap='coolwarm', fmt='d')\n",
    "plt.xlabel('Predicted')\n",
    "plt.ylabel('Actual')\n",
    "plt.title('Confusion Matrix of the XGBoost Model')\n",
    "plt.show()"
   ]
  },
  {
   "cell_type": "markdown",
   "metadata": {},
   "source": [
    "### 7. Training Final Model on Entire Dataset and Saving It"
   ]
  },
  {
   "cell_type": "code",
   "execution_count": 27,
   "metadata": {},
   "outputs": [
    {
     "name": "stdout",
     "output_type": "stream",
     "text": [
      "Model Saved Successfully\n",
      "Scaler Saved Successfully\n"
     ]
    }
   ],
   "source": [
    "# Training the model on the entire dataset\n",
    "xgb_model.fit(X, y)\n",
    "\n",
    "# Saving the model\n",
    "joblib.dump(xgb_model, 'Employee_Attrition_Model.pkl')\n",
    "print(\"Model Saved Successfully\")\n",
    "\n",
    "# Saving the scaler\n",
    "joblib.dump(scaler, 'Employee_Attrition_Scaler.pkl')\n",
    "print(\"Scaler Saved Successfully\")"
   ]
  },
  {
   "cell_type": "markdown",
   "metadata": {},
   "source": [
    "### 8. Testing Model on Both Unseen Data and Seen Data"
   ]
  },
  {
   "cell_type": "markdown",
   "metadata": {},
   "source": [
    "#### 8.1 Unseen Data"
   ]
  },
  {
   "cell_type": "code",
   "execution_count": 28,
   "metadata": {},
   "outputs": [
    {
     "data": {
      "text/html": [
       "<div>\n",
       "<style scoped>\n",
       "    .dataframe tbody tr th:only-of-type {\n",
       "        vertical-align: middle;\n",
       "    }\n",
       "\n",
       "    .dataframe tbody tr th {\n",
       "        vertical-align: top;\n",
       "    }\n",
       "\n",
       "    .dataframe thead th {\n",
       "        text-align: right;\n",
       "    }\n",
       "</style>\n",
       "<table border=\"1\" class=\"dataframe\">\n",
       "  <thead>\n",
       "    <tr style=\"text-align: right;\">\n",
       "      <th></th>\n",
       "      <th>Age</th>\n",
       "      <th>BusinessTravel</th>\n",
       "      <th>DailyRate</th>\n",
       "      <th>Department</th>\n",
       "      <th>DistanceFromHome</th>\n",
       "      <th>Education</th>\n",
       "      <th>EducationField</th>\n",
       "      <th>EnvironmentSatisfaction</th>\n",
       "      <th>Gender</th>\n",
       "      <th>HourlyRate</th>\n",
       "      <th>...</th>\n",
       "      <th>PerformanceRating</th>\n",
       "      <th>RelationshipSatisfaction</th>\n",
       "      <th>StockOptionLevel</th>\n",
       "      <th>TotalWorkingYears</th>\n",
       "      <th>TrainingTimesLastYear</th>\n",
       "      <th>WorkLifeBalance</th>\n",
       "      <th>YearsAtCompany</th>\n",
       "      <th>YearsInCurrentRole</th>\n",
       "      <th>YearsSinceLastPromotion</th>\n",
       "      <th>YearsWithCurrManager</th>\n",
       "    </tr>\n",
       "  </thead>\n",
       "  <tbody>\n",
       "    <tr>\n",
       "      <th>0</th>\n",
       "      <td>45</td>\n",
       "      <td>2</td>\n",
       "      <td>1102</td>\n",
       "      <td>2</td>\n",
       "      <td>1</td>\n",
       "      <td>2</td>\n",
       "      <td>1</td>\n",
       "      <td>2</td>\n",
       "      <td>1</td>\n",
       "      <td>94</td>\n",
       "      <td>...</td>\n",
       "      <td>3</td>\n",
       "      <td>3</td>\n",
       "      <td>0</td>\n",
       "      <td>8</td>\n",
       "      <td>0</td>\n",
       "      <td>1</td>\n",
       "      <td>6</td>\n",
       "      <td>4</td>\n",
       "      <td>0</td>\n",
       "      <td>5</td>\n",
       "    </tr>\n",
       "  </tbody>\n",
       "</table>\n",
       "<p>1 rows × 30 columns</p>\n",
       "</div>"
      ],
      "text/plain": [
       "   Age  BusinessTravel  DailyRate  Department  DistanceFromHome  Education  \\\n",
       "0   45               2       1102           2                 1          2   \n",
       "\n",
       "   EducationField  EnvironmentSatisfaction  Gender  HourlyRate  ...  \\\n",
       "0               1                        2       1          94  ...   \n",
       "\n",
       "   PerformanceRating  RelationshipSatisfaction  StockOptionLevel  \\\n",
       "0                  3                         3                 0   \n",
       "\n",
       "   TotalWorkingYears  TrainingTimesLastYear  WorkLifeBalance  YearsAtCompany  \\\n",
       "0                  8                      0                1               6   \n",
       "\n",
       "   YearsInCurrentRole  YearsSinceLastPromotion  YearsWithCurrManager  \n",
       "0                   4                        0                     5  \n",
       "\n",
       "[1 rows x 30 columns]"
      ]
     },
     "execution_count": 28,
     "metadata": {},
     "output_type": "execute_result"
    }
   ],
   "source": [
    "# Testing the model with a new data\n",
    "model = joblib.load('Employee_Attrition_Model.pkl')\n",
    "scaler = joblib.load('Employee_Attrition_Scaler.pkl')\n",
    "\n",
    "# New Data\n",
    "new_data = {\n",
    "    'Age': 45, 'BusinessTravel': 2, 'DailyRate': 1102, 'Department': 2, 'DistanceFromHome': 1, 'Education': 2, 'EducationField': 1, 'EnvironmentSatisfaction': 2, 'Gender': 1,\n",
    "    'HourlyRate': 94, 'JobInvolvement': 3, 'JobLevel': 2, 'JobRole': 1, 'JobSatisfaction': 4, 'MaritalStatus': 1, 'MonthlyIncome': 5993, 'MonthlyRate': 19479,\n",
    "    'NumCompaniesWorked': 8, 'OverTime': 1, 'PercentSalaryHike': 11, 'PerformanceRating': 3, 'RelationshipSatisfaction': 3, 'StockOptionLevel': 0, 'TotalWorkingYears': 8,\n",
    "    'TrainingTimesLastYear': 0, 'WorkLifeBalance': 1, 'YearsAtCompany': 6, 'YearsInCurrentRole': 4, 'YearsSinceLastPromotion': 0, 'YearsWithCurrManager': 5\n",
    "}\n",
    "\n",
    "# Converting the new data into a dataframe\n",
    "new_data_df = pd.DataFrame(new_data, index=[0])\n",
    "new_data_df\n"
   ]
  },
  {
   "cell_type": "code",
   "execution_count": 29,
   "metadata": {},
   "outputs": [
    {
     "name": "stdout",
     "output_type": "stream",
     "text": [
      "The Employee will leave the company\n"
     ]
    }
   ],
   "source": [
    "# Standardizing the new data\n",
    "new_data_scaled = scaler.transform(new_data_df)\n",
    "\n",
    "# Predicting the Attrition\n",
    "prediction = model.predict(new_data_scaled)\n",
    "prediction[0]\n",
    "\n",
    "if prediction[0] == 0:\n",
    "    print(\"The Employee will not leave the company\")\n",
    "else:\n",
    "    print(\"The Employee will leave the company\")"
   ]
  },
  {
   "cell_type": "markdown",
   "metadata": {},
   "source": [
    "#### 8.2 Seen Data"
   ]
  },
  {
   "cell_type": "code",
   "execution_count": 35,
   "metadata": {},
   "outputs": [
    {
     "data": {
      "text/plain": [
       "Age                            41\n",
       "BusinessTravel                  2\n",
       "DailyRate                    1102\n",
       "Department                      2\n",
       "DistanceFromHome                1\n",
       "Education                       2\n",
       "EducationField                606\n",
       "EnvironmentSatisfaction         2\n",
       "Gender                          0\n",
       "HourlyRate                     94\n",
       "JobInvolvement                  3\n",
       "JobLevel                        2\n",
       "JobRole                       326\n",
       "JobSatisfaction                 4\n",
       "MaritalStatus                   2\n",
       "MonthlyIncome                5993\n",
       "MonthlyRate                 19479\n",
       "NumCompaniesWorked              8\n",
       "OverTime                        1\n",
       "PercentSalaryHike              11\n",
       "PerformanceRating               3\n",
       "RelationshipSatisfaction        1\n",
       "StockOptionLevel                0\n",
       "TotalWorkingYears               8\n",
       "TrainingTimesLastYear           0\n",
       "WorkLifeBalance                 1\n",
       "YearsAtCompany                  6\n",
       "YearsInCurrentRole              4\n",
       "YearsSinceLastPromotion         0\n",
       "YearsWithCurrManager            5\n",
       "Name: 0, dtype: int64"
      ]
     },
     "execution_count": 35,
     "metadata": {},
     "output_type": "execute_result"
    }
   ],
   "source": [
    "# Testing the model with a seen data\n",
    "seen_data = df.iloc[0].drop('Attrition')\n",
    "seen_data"
   ]
  },
  {
   "cell_type": "code",
   "execution_count": 36,
   "metadata": {},
   "outputs": [
    {
     "name": "stdout",
     "output_type": "stream",
     "text": [
      "The Employee will leave the company\n"
     ]
    }
   ],
   "source": [
    "# Standardizing the seen data\n",
    "seen_data_scaled = scaler.transform(seen_data.values.reshape(1, -1))\n",
    "\n",
    "# Predicting the Attrition\n",
    "prediction = model.predict(seen_data_scaled)\n",
    "prediction[0]\n",
    "\n",
    "if prediction[0] == 0:\n",
    "    print(\"The Employee will not leave the company\")\n",
    "else:\n",
    "    print(\"The Employee will leave the company\")"
   ]
  },
  {
   "cell_type": "code",
   "execution_count": 39,
   "metadata": {},
   "outputs": [
    {
     "data": {
      "text/plain": [
       "np.int64(1)"
      ]
     },
     "execution_count": 39,
     "metadata": {},
     "output_type": "execute_result"
    }
   ],
   "source": [
    "seen_data = df.iloc[0]\n",
    "seen_data['Attrition']"
   ]
  },
  {
   "cell_type": "markdown",
   "metadata": {},
   "source": [
    "**Conclusions:**\n",
    "- The model is working perfectly with an accuracy of 87.76% and a cross-validation score of 86.94%.\n",
    "- The model has been saved and can be used for future predictions.\n",
    "- The model has been tested with new and seen data and the predictions are accurate.\n",
    "- The model has been trained on the entire dataset and can be used for future predictions.\n",
    "- The model has been saved and can be used for future predictions."
   ]
  }
 ],
 "metadata": {
  "kernelspec": {
   "display_name": "Python 3",
   "language": "python",
   "name": "python3"
  },
  "language_info": {
   "codemirror_mode": {
    "name": "ipython",
    "version": 3
   },
   "file_extension": ".py",
   "mimetype": "text/x-python",
   "name": "python",
   "nbconvert_exporter": "python",
   "pygments_lexer": "ipython3",
   "version": "3.11.9"
  }
 },
 "nbformat": 4,
 "nbformat_minor": 2
}
