{
 "cells": [
  {
   "cell_type": "markdown",
   "metadata": {},
   "source": [
    "# Machine Learning Model for Heart Disease Prediction"
   ]
  },
  {
   "cell_type": "markdown",
   "metadata": {},
   "source": [
    "### 1. Import Relevant Libraries/Packages"
   ]
  },
  {
   "cell_type": "code",
   "execution_count": 71,
   "metadata": {},
   "outputs": [],
   "source": [
    "# General libraries for data manipulation and visualization\n",
    "import pandas as pd\n",
    "import matplotlib.pyplot as plt\n",
    "import seaborn as sns\n",
    "%matplotlib inline\n",
    "import warnings\n",
    "warnings.filterwarnings('ignore')\n",
    "\n",
    "# Libraries for data preprocessing and model evaluation\n",
    "from sklearn.preprocessing import StandardScaler\n",
    "from sklearn.model_selection import train_test_split\n",
    "from sklearn.model_selection import cross_val_score\n",
    "from sklearn.metrics import accuracy_score, confusion_matrix, classification_report\n",
    "\n",
    "# Libraries for building the model\n",
    "from sklearn.linear_model import LogisticRegression\n",
    "from sklearn.ensemble import RandomForestClassifier\n",
    "from sklearn.svm import SVC\n",
    "from sklearn.neighbors import KNeighborsClassifier\n",
    "from sklearn.tree import DecisionTreeClassifier\n",
    "from sklearn.ensemble import GradientBoostingClassifier\n",
    "from sklearn.ensemble import AdaBoostClassifier\n",
    "from sklearn.ensemble import ExtraTreesClassifier\n",
    "from sklearn.naive_bayes import GaussianNB\n",
    "import xgboost as xgb\n",
    "\n",
    "# Library for model saving\n",
    "import joblib"
   ]
  },
  {
   "cell_type": "markdown",
   "metadata": {},
   "source": [
    "### 2. Load Preprocessed Dataset"
   ]
  },
  {
   "cell_type": "code",
   "execution_count": 91,
   "metadata": {},
   "outputs": [
    {
     "data": {
      "text/html": [
       "<div>\n",
       "<style scoped>\n",
       "    .dataframe tbody tr th:only-of-type {\n",
       "        vertical-align: middle;\n",
       "    }\n",
       "\n",
       "    .dataframe tbody tr th {\n",
       "        vertical-align: top;\n",
       "    }\n",
       "\n",
       "    .dataframe thead th {\n",
       "        text-align: right;\n",
       "    }\n",
       "</style>\n",
       "<table border=\"1\" class=\"dataframe\">\n",
       "  <thead>\n",
       "    <tr style=\"text-align: right;\">\n",
       "      <th></th>\n",
       "      <th>Age</th>\n",
       "      <th>Sex</th>\n",
       "      <th>ChestPainType</th>\n",
       "      <th>RestingBP</th>\n",
       "      <th>Cholesterol</th>\n",
       "      <th>FastingBS</th>\n",
       "      <th>RestingECG</th>\n",
       "      <th>MaxHR</th>\n",
       "      <th>ExerciseAngina</th>\n",
       "      <th>Oldpeak</th>\n",
       "      <th>ST_Slope</th>\n",
       "      <th>HeartDisease</th>\n",
       "    </tr>\n",
       "  </thead>\n",
       "  <tbody>\n",
       "    <tr>\n",
       "      <th>0</th>\n",
       "      <td>40</td>\n",
       "      <td>1</td>\n",
       "      <td>173</td>\n",
       "      <td>140</td>\n",
       "      <td>289</td>\n",
       "      <td>0</td>\n",
       "      <td>1</td>\n",
       "      <td>172</td>\n",
       "      <td>0</td>\n",
       "      <td>0.0</td>\n",
       "      <td>2</td>\n",
       "      <td>0</td>\n",
       "    </tr>\n",
       "    <tr>\n",
       "      <th>1</th>\n",
       "      <td>49</td>\n",
       "      <td>0</td>\n",
       "      <td>203</td>\n",
       "      <td>160</td>\n",
       "      <td>180</td>\n",
       "      <td>0</td>\n",
       "      <td>1</td>\n",
       "      <td>156</td>\n",
       "      <td>0</td>\n",
       "      <td>1.0</td>\n",
       "      <td>1</td>\n",
       "      <td>1</td>\n",
       "    </tr>\n",
       "    <tr>\n",
       "      <th>2</th>\n",
       "      <td>37</td>\n",
       "      <td>1</td>\n",
       "      <td>173</td>\n",
       "      <td>130</td>\n",
       "      <td>283</td>\n",
       "      <td>0</td>\n",
       "      <td>2</td>\n",
       "      <td>98</td>\n",
       "      <td>0</td>\n",
       "      <td>0.0</td>\n",
       "      <td>2</td>\n",
       "      <td>0</td>\n",
       "    </tr>\n",
       "    <tr>\n",
       "      <th>3</th>\n",
       "      <td>48</td>\n",
       "      <td>0</td>\n",
       "      <td>496</td>\n",
       "      <td>138</td>\n",
       "      <td>214</td>\n",
       "      <td>0</td>\n",
       "      <td>1</td>\n",
       "      <td>108</td>\n",
       "      <td>1</td>\n",
       "      <td>1.5</td>\n",
       "      <td>1</td>\n",
       "      <td>1</td>\n",
       "    </tr>\n",
       "    <tr>\n",
       "      <th>4</th>\n",
       "      <td>54</td>\n",
       "      <td>1</td>\n",
       "      <td>203</td>\n",
       "      <td>150</td>\n",
       "      <td>195</td>\n",
       "      <td>0</td>\n",
       "      <td>1</td>\n",
       "      <td>122</td>\n",
       "      <td>0</td>\n",
       "      <td>0.0</td>\n",
       "      <td>2</td>\n",
       "      <td>0</td>\n",
       "    </tr>\n",
       "  </tbody>\n",
       "</table>\n",
       "</div>"
      ],
      "text/plain": [
       "   Age  Sex  ChestPainType  RestingBP  Cholesterol  FastingBS  RestingECG  \\\n",
       "0   40    1            173        140          289          0           1   \n",
       "1   49    0            203        160          180          0           1   \n",
       "2   37    1            173        130          283          0           2   \n",
       "3   48    0            496        138          214          0           1   \n",
       "4   54    1            203        150          195          0           1   \n",
       "\n",
       "   MaxHR  ExerciseAngina  Oldpeak  ST_Slope  HeartDisease  \n",
       "0    172               0      0.0         2             0  \n",
       "1    156               0      1.0         1             1  \n",
       "2     98               0      0.0         2             0  \n",
       "3    108               1      1.5         1             1  \n",
       "4    122               0      0.0         2             0  "
      ]
     },
     "execution_count": 91,
     "metadata": {},
     "output_type": "execute_result"
    }
   ],
   "source": [
    "df = pd.read_csv('data/heart_preprocessed_data.csv')\n",
    "df.head()"
   ]
  },
  {
   "cell_type": "markdown",
   "metadata": {},
   "source": [
    "### 3. Splitting Data"
   ]
  },
  {
   "cell_type": "code",
   "execution_count": 92,
   "metadata": {},
   "outputs": [],
   "source": [
    "# Splitting the data into independent and dependent variables\n",
    "\n",
    "# independent variables\n",
    "X = df.drop('HeartDisease', axis=1)\n",
    "\n",
    "# dependent variable\n",
    "y = df['HeartDisease']"
   ]
  },
  {
   "cell_type": "code",
   "execution_count": 74,
   "metadata": {},
   "outputs": [
    {
     "data": {
      "text/plain": [
       "((688, 11), (230, 11), (688,), (230,))"
      ]
     },
     "execution_count": 74,
     "metadata": {},
     "output_type": "execute_result"
    }
   ],
   "source": [
    "# Splitting the data into training and testing sets\n",
    "\n",
    "X_train, X_test, y_train, y_test = train_test_split(X, y, test_size=0.25, random_state=42)\n",
    "\n",
    "# Shape of training and testing sets\n",
    "X_train.shape, X_test.shape, y_train.shape, y_test.shape"
   ]
  },
  {
   "cell_type": "markdown",
   "metadata": {},
   "source": [
    "### 4. Data Standardization"
   ]
  },
  {
   "cell_type": "code",
   "execution_count": 75,
   "metadata": {},
   "outputs": [],
   "source": [
    "# Standardizing the data\n",
    "scaler = StandardScaler()\n",
    "\n",
    "# Fitting the scaler to the training data\n",
    "X_train = scaler.fit_transform(X_train)\n",
    "\n",
    "# Transforming the testing data\n",
    "X_test = scaler.transform(X_test)"
   ]
  },
  {
   "cell_type": "code",
   "execution_count": 76,
   "metadata": {},
   "outputs": [
    {
     "data": {
      "text/plain": [
       "array([[ 0.23929215,  0.5370191 ,  0.89002842, ...,  1.18203745,\n",
       "         1.90045807, -0.604929  ],\n",
       "       [ 0.23929215,  0.5370191 , -0.91477481, ..., -0.84599688,\n",
       "        -0.83473854, -0.604929  ],\n",
       "       [ 0.55896789,  0.5370191 , -0.91477481, ..., -0.84599688,\n",
       "         0.62403298,  1.08005542],\n",
       "       ...,\n",
       "       [ 0.66552646,  0.5370191 ,  0.89002842, ...,  1.18203745,\n",
       "         0.44168654,  1.08005542],\n",
       "       [ 0.66552646,  0.5370191 ,  0.89002842, ...,  1.18203745,\n",
       "        -0.83473854,  1.08005542],\n",
       "       [-1.46564508, -1.86213116,  0.89002842, ..., -0.84599688,\n",
       "         0.98872587, -0.604929  ]])"
      ]
     },
     "execution_count": 76,
     "metadata": {},
     "output_type": "execute_result"
    }
   ],
   "source": [
    "X_train"
   ]
  },
  {
   "cell_type": "code",
   "execution_count": 77,
   "metadata": {},
   "outputs": [
    {
     "data": {
      "text/plain": [
       "array([[ 0.9852022 , -1.86213116, -1.09956695, ..., -0.84599688,\n",
       "        -0.83473854,  1.08005542],\n",
       "       [-0.08038358,  0.5370191 , -0.91477481, ..., -0.84599688,\n",
       "        -0.83473854, -0.604929  ],\n",
       "       [ 1.19831935,  0.5370191 ,  0.89002842, ..., -0.84599688,\n",
       "         0.2593401 , -0.604929  ],\n",
       "       ...,\n",
       "       [-0.08038358,  0.5370191 ,  0.89002842, ..., -0.84599688,\n",
       "         0.53285976,  1.08005542],\n",
       "       [ 0.026175  ,  0.5370191 , -1.09956695, ..., -0.84599688,\n",
       "        -0.83473854,  1.08005542],\n",
       "       [-1.57220366, -1.86213116, -0.91477481, ..., -0.84599688,\n",
       "        -0.83473854, -0.604929  ]])"
      ]
     },
     "execution_count": 77,
     "metadata": {},
     "output_type": "execute_result"
    }
   ],
   "source": [
    "X_test"
   ]
  },
  {
   "cell_type": "markdown",
   "metadata": {},
   "source": [
    "### 5. Model Selection and Evaluation"
   ]
  },
  {
   "cell_type": "code",
   "execution_count": 78,
   "metadata": {},
   "outputs": [],
   "source": [
    "def evaluate_model(true, predicted):\n",
    "    accuracy = accuracy_score(true, predicted)*100\n",
    "    confusion = confusion_matrix(true, predicted)\n",
    "    classification_rep = classification_report(true, predicted)\n",
    "    return accuracy, confusion, classification_rep"
   ]
  },
  {
   "cell_type": "code",
   "execution_count": 79,
   "metadata": {},
   "outputs": [
    {
     "name": "stdout",
     "output_type": "stream",
     "text": [
      "Model: Logistic Regression\n",
      "Accuracy: 86.52%\n",
      "Confusion Matrix: \n",
      "[[ 86  12]\n",
      " [ 19 113]]\n",
      "Classification Report: \n",
      "              precision    recall  f1-score   support\n",
      "\n",
      "           0       0.82      0.88      0.85        98\n",
      "           1       0.90      0.86      0.88       132\n",
      "\n",
      "    accuracy                           0.87       230\n",
      "   macro avg       0.86      0.87      0.86       230\n",
      "weighted avg       0.87      0.87      0.87       230\n",
      "\n",
      "=======================================================\n",
      "Model: Decision Tree\n",
      "Accuracy: 79.57%\n",
      "Confusion Matrix: \n",
      "[[ 81  17]\n",
      " [ 30 102]]\n",
      "Classification Report: \n",
      "              precision    recall  f1-score   support\n",
      "\n",
      "           0       0.73      0.83      0.78        98\n",
      "           1       0.86      0.77      0.81       132\n",
      "\n",
      "    accuracy                           0.80       230\n",
      "   macro avg       0.79      0.80      0.79       230\n",
      "weighted avg       0.80      0.80      0.80       230\n",
      "\n",
      "=======================================================\n",
      "Model: Random Forest\n",
      "Accuracy: 90.00%\n",
      "Confusion Matrix: \n",
      "[[ 89   9]\n",
      " [ 14 118]]\n",
      "Classification Report: \n",
      "              precision    recall  f1-score   support\n",
      "\n",
      "           0       0.86      0.91      0.89        98\n",
      "           1       0.93      0.89      0.91       132\n",
      "\n",
      "    accuracy                           0.90       230\n",
      "   macro avg       0.90      0.90      0.90       230\n",
      "weighted avg       0.90      0.90      0.90       230\n",
      "\n",
      "=======================================================\n",
      "Model: K-Nearest Neighbors\n",
      "Accuracy: 87.39%\n",
      "Confusion Matrix: \n",
      "[[ 87  11]\n",
      " [ 18 114]]\n",
      "Classification Report: \n",
      "              precision    recall  f1-score   support\n",
      "\n",
      "           0       0.83      0.89      0.86        98\n",
      "           1       0.91      0.86      0.89       132\n",
      "\n",
      "    accuracy                           0.87       230\n",
      "   macro avg       0.87      0.88      0.87       230\n",
      "weighted avg       0.88      0.87      0.87       230\n",
      "\n",
      "=======================================================\n",
      "Model: Support Vector Machine\n",
      "Accuracy: 86.52%\n",
      "Confusion Matrix: \n",
      "[[ 83  15]\n",
      " [ 16 116]]\n",
      "Classification Report: \n",
      "              precision    recall  f1-score   support\n",
      "\n",
      "           0       0.84      0.85      0.84        98\n",
      "           1       0.89      0.88      0.88       132\n",
      "\n",
      "    accuracy                           0.87       230\n",
      "   macro avg       0.86      0.86      0.86       230\n",
      "weighted avg       0.87      0.87      0.87       230\n",
      "\n",
      "=======================================================\n",
      "Model: Gaussian Naive Bayes\n",
      "Accuracy: 86.52%\n",
      "Confusion Matrix: \n",
      "[[ 86  12]\n",
      " [ 19 113]]\n",
      "Classification Report: \n",
      "              precision    recall  f1-score   support\n",
      "\n",
      "           0       0.82      0.88      0.85        98\n",
      "           1       0.90      0.86      0.88       132\n",
      "\n",
      "    accuracy                           0.87       230\n",
      "   macro avg       0.86      0.87      0.86       230\n",
      "weighted avg       0.87      0.87      0.87       230\n",
      "\n",
      "=======================================================\n",
      "Model: AdaBoost\n",
      "Accuracy: 84.78%\n",
      "Confusion Matrix: \n",
      "[[ 87  11]\n",
      " [ 24 108]]\n",
      "Classification Report: \n",
      "              precision    recall  f1-score   support\n",
      "\n",
      "           0       0.78      0.89      0.83        98\n",
      "           1       0.91      0.82      0.86       132\n",
      "\n",
      "    accuracy                           0.85       230\n",
      "   macro avg       0.85      0.85      0.85       230\n",
      "weighted avg       0.85      0.85      0.85       230\n",
      "\n",
      "=======================================================\n",
      "Model: Gradient Boosting\n",
      "Accuracy: 86.09%\n",
      "Confusion Matrix: \n",
      "[[ 88  10]\n",
      " [ 22 110]]\n",
      "Classification Report: \n",
      "              precision    recall  f1-score   support\n",
      "\n",
      "           0       0.80      0.90      0.85        98\n",
      "           1       0.92      0.83      0.87       132\n",
      "\n",
      "    accuracy                           0.86       230\n",
      "   macro avg       0.86      0.87      0.86       230\n",
      "weighted avg       0.87      0.86      0.86       230\n",
      "\n",
      "=======================================================\n",
      "Model: Extra Trees\n",
      "Accuracy: 88.26%\n",
      "Confusion Matrix: \n",
      "[[ 89   9]\n",
      " [ 18 114]]\n",
      "Classification Report: \n",
      "              precision    recall  f1-score   support\n",
      "\n",
      "           0       0.83      0.91      0.87        98\n",
      "           1       0.93      0.86      0.89       132\n",
      "\n",
      "    accuracy                           0.88       230\n",
      "   macro avg       0.88      0.89      0.88       230\n",
      "weighted avg       0.89      0.88      0.88       230\n",
      "\n",
      "=======================================================\n",
      "Model: XGBoost\n",
      "Accuracy: 86.96%\n",
      "Confusion Matrix: \n",
      "[[ 88  10]\n",
      " [ 20 112]]\n",
      "Classification Report: \n",
      "              precision    recall  f1-score   support\n",
      "\n",
      "           0       0.81      0.90      0.85        98\n",
      "           1       0.92      0.85      0.88       132\n",
      "\n",
      "    accuracy                           0.87       230\n",
      "   macro avg       0.87      0.87      0.87       230\n",
      "weighted avg       0.87      0.87      0.87       230\n",
      "\n",
      "=======================================================\n"
     ]
    }
   ],
   "source": [
    "# model to be used\n",
    "models = {\n",
    "    'Logistic Regression': LogisticRegression(),\n",
    "    'Decision Tree': DecisionTreeClassifier(),\n",
    "    'Random Forest': RandomForestClassifier(),\n",
    "    'K-Nearest Neighbors': KNeighborsClassifier(),\n",
    "    'Support Vector Machine': SVC(),\n",
    "    'Gaussian Naive Bayes': GaussianNB(),\n",
    "    'AdaBoost': AdaBoostClassifier(),\n",
    "    'Gradient Boosting': GradientBoostingClassifier(),\n",
    "    'Extra Trees': ExtraTreesClassifier(),\n",
    "    'XGBoost': xgb.XGBClassifier()\n",
    "}\n",
    "\n",
    "model_list = []\n",
    "accuracy_list = []\n",
    "\n",
    "for model_name, model in models.items():\n",
    "    model.fit(X_train, y_train)\n",
    "    y_pred = model.predict(X_test)\n",
    "    accuracy, confusion, classification_rep = evaluate_model(y_test, y_pred)\n",
    "    model_list.append(model_name)\n",
    "    accuracy_list.append(accuracy)\n",
    "    print(f\"Model: {model_name}\")\n",
    "    print(f\"Accuracy: {accuracy:.2f}%\")\n",
    "    print(f\"Confusion Matrix: \\n{confusion}\")\n",
    "    print(f\"Classification Report: \\n{classification_rep}\")\n",
    "    print(\"=\"*55)"
   ]
  },
  {
   "cell_type": "code",
   "execution_count": 80,
   "metadata": {},
   "outputs": [
    {
     "data": {
      "text/html": [
       "<div>\n",
       "<style scoped>\n",
       "    .dataframe tbody tr th:only-of-type {\n",
       "        vertical-align: middle;\n",
       "    }\n",
       "\n",
       "    .dataframe tbody tr th {\n",
       "        vertical-align: top;\n",
       "    }\n",
       "\n",
       "    .dataframe thead th {\n",
       "        text-align: right;\n",
       "    }\n",
       "</style>\n",
       "<table border=\"1\" class=\"dataframe\">\n",
       "  <thead>\n",
       "    <tr style=\"text-align: right;\">\n",
       "      <th></th>\n",
       "      <th>Model</th>\n",
       "      <th>Accuracy</th>\n",
       "    </tr>\n",
       "  </thead>\n",
       "  <tbody>\n",
       "    <tr>\n",
       "      <th>2</th>\n",
       "      <td>Random Forest</td>\n",
       "      <td>90.000000</td>\n",
       "    </tr>\n",
       "    <tr>\n",
       "      <th>8</th>\n",
       "      <td>Extra Trees</td>\n",
       "      <td>88.260870</td>\n",
       "    </tr>\n",
       "    <tr>\n",
       "      <th>3</th>\n",
       "      <td>K-Nearest Neighbors</td>\n",
       "      <td>87.391304</td>\n",
       "    </tr>\n",
       "    <tr>\n",
       "      <th>9</th>\n",
       "      <td>XGBoost</td>\n",
       "      <td>86.956522</td>\n",
       "    </tr>\n",
       "    <tr>\n",
       "      <th>5</th>\n",
       "      <td>Gaussian Naive Bayes</td>\n",
       "      <td>86.521739</td>\n",
       "    </tr>\n",
       "    <tr>\n",
       "      <th>0</th>\n",
       "      <td>Logistic Regression</td>\n",
       "      <td>86.521739</td>\n",
       "    </tr>\n",
       "    <tr>\n",
       "      <th>4</th>\n",
       "      <td>Support Vector Machine</td>\n",
       "      <td>86.521739</td>\n",
       "    </tr>\n",
       "    <tr>\n",
       "      <th>7</th>\n",
       "      <td>Gradient Boosting</td>\n",
       "      <td>86.086957</td>\n",
       "    </tr>\n",
       "    <tr>\n",
       "      <th>6</th>\n",
       "      <td>AdaBoost</td>\n",
       "      <td>84.782609</td>\n",
       "    </tr>\n",
       "    <tr>\n",
       "      <th>1</th>\n",
       "      <td>Decision Tree</td>\n",
       "      <td>79.565217</td>\n",
       "    </tr>\n",
       "  </tbody>\n",
       "</table>\n",
       "</div>"
      ],
      "text/plain": [
       "                    Model   Accuracy\n",
       "2           Random Forest  90.000000\n",
       "8             Extra Trees  88.260870\n",
       "3     K-Nearest Neighbors  87.391304\n",
       "9                 XGBoost  86.956522\n",
       "5    Gaussian Naive Bayes  86.521739\n",
       "0     Logistic Regression  86.521739\n",
       "4  Support Vector Machine  86.521739\n",
       "7       Gradient Boosting  86.086957\n",
       "6                AdaBoost  84.782609\n",
       "1           Decision Tree  79.565217"
      ]
     },
     "execution_count": 80,
     "metadata": {},
     "output_type": "execute_result"
    }
   ],
   "source": [
    "# Dataframe for the model and their accuracy in descending order\n",
    "model_df = pd.DataFrame({'Model': model_list, 'Accuracy': (accuracy_list)}).sort_values(by='Accuracy', ascending=False)\n",
    "model_df"
   ]
  },
  {
   "cell_type": "markdown",
   "metadata": {},
   "source": [
    "**Conclusion:** The Random Forest model has the highest accuracy of 90.00%. The model can be used to predict heart disease from given patients data. So, Now we will train the final model using the entire dataset and save it for future use."
   ]
  },
  {
   "cell_type": "markdown",
   "metadata": {},
   "source": [
    "### 6. Final Model Training"
   ]
  },
  {
   "cell_type": "code",
   "execution_count": 94,
   "metadata": {},
   "outputs": [
    {
     "name": "stdout",
     "output_type": "stream",
     "text": [
      "Model: Random Forest Classifier\n",
      "Accuracy: 87.83%\n",
      "Confusion Matrix: \n",
      "[[ 88  10]\n",
      " [ 18 114]]\n",
      "Classification Report: \n",
      "              precision    recall  f1-score   support\n",
      "\n",
      "           0       0.83      0.90      0.86        98\n",
      "           1       0.92      0.86      0.89       132\n",
      "\n",
      "    accuracy                           0.88       230\n",
      "   macro avg       0.87      0.88      0.88       230\n",
      "weighted avg       0.88      0.88      0.88       230\n",
      "\n",
      "Cross Validation Score: 85.60%\n",
      "\n"
     ]
    }
   ],
   "source": [
    "rfc = RandomForestClassifier()\n",
    "rfc.fit(X_train, y_train)\n",
    "rfc_pred = rfc.predict(X_test)\n",
    "accuracy, confusion, classification_rep = evaluate_model(y_test, rfc_pred)\n",
    "print(f\"Model: Random Forest Classifier\")\n",
    "print(f\"Accuracy: {accuracy:.2f}%\")\n",
    "print(f\"Confusion Matrix: \\n{confusion}\")\n",
    "print(f\"Classification Report: \\n{classification_rep}\")\n",
    "\n",
    "# Cross Validation\n",
    "cross_val = cross_val_score(rfc, X, y, cv=10, scoring='accuracy')\n",
    "print(f\"Cross Validation Score: {cross_val.mean()*100:.2f}%\\n\")"
   ]
  },
  {
   "cell_type": "code",
   "execution_count": 95,
   "metadata": {},
   "outputs": [
    {
     "data": {
      "image/png": "[encoded data removed]",
      "text/plain": [
       "<Figure size 1200x800 with 1 Axes>"
      ]
     },
     "metadata": {},
     "output_type": "display_data"
    }
   ],
   "source": [
    "# Plotting the Feature Importance\n",
    "plt.figure(figsize=(12, 8))\n",
    "feature_importance_df = pd.DataFrame({'Feature Importance': rfc.feature_importances_}, index=X.columns)\n",
    "feature_importance_df = feature_importance_df.sort_values(by='Feature Importance', ascending=False)\n",
    "sns.barplot(x=feature_importance_df['Feature Importance'], y=feature_importance_df.index)\n",
    "plt.xlabel('Feature Importance')\n",
    "plt.ylabel('Features')\n",
    "plt.title('Feature Importance of the Random Forest Model')\n",
    "plt.show()"
   ]
  },
  {
   "cell_type": "code",
   "execution_count": 96,
   "metadata": {},
   "outputs": [
    {
     "data": {
      "image/png": "[encoded data removed]",
      "text/plain": [
       "<Figure size 1000x600 with 2 Axes>"
      ]
     },
     "metadata": {},
     "output_type": "display_data"
    }
   ],
   "source": [
    "# Confusion Matrix\n",
    "plt.figure(figsize=(10, 6))\n",
    "sns.heatmap(confusion, annot=True, cmap='coolwarm', fmt='d')\n",
    "plt.xlabel('Predicted')\n",
    "plt.ylabel('Actual')\n",
    "plt.title('Confusion Matrix of the Random Forest Model')\n",
    "plt.show()"
   ]
  },
  {
   "cell_type": "markdown",
   "metadata": {},
   "source": [
    "### 7. Training Final Model on Entire Dataset and Saving It"
   ]
  },
  {
   "cell_type": "code",
   "execution_count": 97,
   "metadata": {},
   "outputs": [
    {
     "name": "stdout",
     "output_type": "stream",
     "text": [
      "Model Saved Successfully\n",
      "Scaler Saved Successfully\n"
     ]
    }
   ],
   "source": [
    "rfc_model = RandomForestClassifier()\n",
    "\n",
    "# Scaling the data\n",
    "X = scaler.fit_transform(X)\n",
    "\n",
    "# Fitting the model\n",
    "rfc_model.fit(X, y)\n",
    "\n",
    "# Saving the model\n",
    "joblib.dump(rfc_model, 'artifacts/rfc_model.pkl')\n",
    "print(\"Model Saved Successfully\")\n",
    "\n",
    "# Saving the scaler\n",
    "joblib.dump(scaler, 'artifacts/scaler.pkl')\n",
    "print(\"Scaler Saved Successfully\")"
   ]
  },
  {
   "cell_type": "markdown",
   "metadata": {},
   "source": [
    "### 8. Testing Model on Both Unseen Data and Seen Data"
   ]
  },
  {
   "cell_type": "markdown",
   "metadata": {},
   "source": [
    "#### 8.1 Unseen Data"
   ]
  },
  {
   "cell_type": "code",
   "execution_count": 98,
   "metadata": {},
   "outputs": [
    {
     "data": {
      "text/html": [
       "<div>\n",
       "<style scoped>\n",
       "    .dataframe tbody tr th:only-of-type {\n",
       "        vertical-align: middle;\n",
       "    }\n",
       "\n",
       "    .dataframe tbody tr th {\n",
       "        vertical-align: top;\n",
       "    }\n",
       "\n",
       "    .dataframe thead th {\n",
       "        text-align: right;\n",
       "    }\n",
       "</style>\n",
       "<table border=\"1\" class=\"dataframe\">\n",
       "  <thead>\n",
       "    <tr style=\"text-align: right;\">\n",
       "      <th></th>\n",
       "      <th>Age</th>\n",
       "      <th>Sex</th>\n",
       "      <th>ChestPainType</th>\n",
       "      <th>RestingBP</th>\n",
       "      <th>Cholesterol</th>\n",
       "      <th>FastingBS</th>\n",
       "      <th>RestingECG</th>\n",
       "      <th>MaxHR</th>\n",
       "      <th>ExerciseAngina</th>\n",
       "      <th>Oldpeak</th>\n",
       "      <th>ST_Slope</th>\n",
       "    </tr>\n",
       "  </thead>\n",
       "  <tbody>\n",
       "    <tr>\n",
       "      <th>0</th>\n",
       "      <td>56</td>\n",
       "      <td>1</td>\n",
       "      <td>173</td>\n",
       "      <td>148</td>\n",
       "      <td>201</td>\n",
       "      <td>1</td>\n",
       "      <td>1</td>\n",
       "      <td>120</td>\n",
       "      <td>1</td>\n",
       "      <td>1.7</td>\n",
       "      <td>2</td>\n",
       "    </tr>\n",
       "  </tbody>\n",
       "</table>\n",
       "</div>"
      ],
      "text/plain": [
       "   Age  Sex  ChestPainType  RestingBP  Cholesterol  FastingBS  RestingECG  \\\n",
       "0   56    1            173        148          201          1           1   \n",
       "\n",
       "   MaxHR  ExerciseAngina  Oldpeak  ST_Slope  \n",
       "0    120               1      1.7         2  "
      ]
     },
     "execution_count": 98,
     "metadata": {},
     "output_type": "execute_result"
    }
   ],
   "source": [
    "model = joblib.load('artifacts/rfc_model.pkl')\n",
    "scaler = joblib.load('artifacts/scaler.pkl')\n",
    "\n",
    "new_data = {\n",
    "    'Age':56, 'Sex':1, 'ChestPainType':173, 'RestingBP':148, 'Cholesterol':201, 'FastingBS':1, 'RestingECG':1, 'MaxHR':120, 'ExerciseAngina':1,\n",
    "    'Oldpeak':1.7, 'ST_Slope':2\n",
    "}\n",
    "new_df = pd.DataFrame(new_data, index=[0])\n",
    "new_df"
   ]
  },
  {
   "cell_type": "code",
   "execution_count": 99,
   "metadata": {},
   "outputs": [
    {
     "name": "stdout",
     "output_type": "stream",
     "text": [
      "Patient is suffering from Heart Disease\n"
     ]
    }
   ],
   "source": [
    "# standardize the new data\n",
    "scaled_new_data = scaler.fit_transform(new_df)\n",
    "\n",
    "# prediction on new data\n",
    "prediction = model.predict(scaled_new_data)\n",
    "\n",
    "if prediction[0] == 1:\n",
    "    print(\"Patient is suffering from Heart Disease\")\n",
    "else:\n",
    "    print(\"Patient is not suffering from Heart Disease\")"
   ]
  },
  {
   "cell_type": "markdown",
   "metadata": {},
   "source": [
    "#### 8.2 Seen Data"
   ]
  },
  {
   "cell_type": "code",
   "execution_count": 105,
   "metadata": {},
   "outputs": [
    {
     "data": {
      "text/plain": [
       "Age                49.0\n",
       "Sex                 0.0\n",
       "ChestPainType     203.0\n",
       "RestingBP         160.0\n",
       "Cholesterol       180.0\n",
       "FastingBS           0.0\n",
       "RestingECG          1.0\n",
       "MaxHR             156.0\n",
       "ExerciseAngina      0.0\n",
       "Oldpeak             1.0\n",
       "ST_Slope            1.0\n",
       "Name: 1, dtype: float64"
      ]
     },
     "execution_count": 105,
     "metadata": {},
     "output_type": "execute_result"
    }
   ],
   "source": [
    "# Testing model with seen data\n",
    "seen_data = df.iloc[1].drop('HeartDisease')\n",
    "seen_data"
   ]
  },
  {
   "cell_type": "code",
   "execution_count": 106,
   "metadata": {},
   "outputs": [
    {
     "name": "stdout",
     "output_type": "stream",
     "text": [
      "Patient is suffering from Heart Disease\n"
     ]
    }
   ],
   "source": [
    "# Standardizing the seen data\n",
    "seen_data = scaler.transform([seen_data])\n",
    "\n",
    "# Prediction on seen data\n",
    "prediction = model.predict(seen_data)\n",
    "\n",
    "if prediction[0] == 1:\n",
    "    print(\"Patient is suffering from Heart Disease\")\n",
    "else:\n",
    "    print(\"Patient is not suffering from Heart Disease\")\n"
   ]
  },
  {
   "cell_type": "markdown",
   "metadata": {},
   "source": []
  }
 ],
 "metadata": {
  "kernelspec": {
   "display_name": "Python 3",
   "language": "python",
   "name": "python3"
  },
  "language_info": {
   "codemirror_mode": {
    "name": "ipython",
    "version": 3
   },
   "file_extension": ".py",
   "mimetype": "text/x-python",
   "name": "python",
   "nbconvert_exporter": "python",
   "pygments_lexer": "ipython3",
   "version": "3.11.9"
  }
 },
 "nbformat": 4,
 "nbformat_minor": 2
}
